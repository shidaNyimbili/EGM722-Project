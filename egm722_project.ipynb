{
 "cells": [
  {
   "cell_type": "code",
   "execution_count": 1,
   "id": "50b61977",
   "metadata": {},
   "outputs": [],
   "source": [
    "#load packages\n",
    "import os\n",
    "import geopandas as gpd\n",
    "import matplotlib.pyplot as plt\n",
    "from cartopy.feature import ShapelyFeature\n",
    "import cartopy.crs as ccrs\n",
    "import matplotlib.patches as mpatches\n",
    "import matplotlib.lines as mlines\n",
    "import rasterio\n",
    "from pyproj import CRS\n"
   ]
  },
  {
   "cell_type": "code",
   "execution_count": 2,
   "id": "7e883823",
   "metadata": {
    "scrolled": true
   },
   "outputs": [],
   "source": [
    "# load shapefiles\n",
    "health_facilities = gpd.read_file(os.path.abspath('datasets/health_facilities.shp'))\n",
    "patients = gpd.read_file(os.path.abspath('datasets/patient.shp'))\n",
    "roads = gpd.read_file(os.path.abspath('datasets/road.shp'))\n",
    "districts = gpd.read_file(os.path.abspath('datasets/district.shp'))"
   ]
  },
  {
   "cell_type": "code",
   "execution_count": 20,
   "id": "9f7fc6b7",
   "metadata": {},
   "outputs": [
    {
     "data": {
      "text/plain": [
       "<bound method NDFrame.head of    FID_                           Name   Latitude  Longitude  \\\n",
       "0   861  Chalabesa Rural Health Centre -11.481887  31.084718   \n",
       "1  1871              Chaya Health Post -11.836500  31.446669   \n",
       "2  1872   Chibansa Urban Health Centre -11.906580  31.436493   \n",
       "\n",
       "                           geometry  \n",
       "0  POINT (1647497.849 -1379331.907)  \n",
       "1  POINT (1715353.017 -1279450.308)  \n",
       "2  POINT (1636605.008 -1329082.551)  >"
      ]
     },
     "execution_count": 20,
     "metadata": {},
     "output_type": "execute_result"
    }
   ],
   "source": [
    "health_facilities.head"
   ]
  },
  {
   "cell_type": "code",
   "execution_count": 4,
   "id": "ba034450",
   "metadata": {},
   "outputs": [],
   "source": [
    "# Define projection\n",
    "#myCRS = ccrs.UTM(29)\n",
    "crs_utm = ccrs.UTM(34)\n",
    "#crs_utm = CRS.from_epsg(4326)\n",
    "patients = patients.to_crs(crs_utm)\n",
    "health_facilities = health_facilities.to_crs(crs_utm)\n",
    "roads = roads.to_crs(crs_utm)\n",
    "districts = districts.to_crs(crs_utm)"
   ]
  },
  {
   "cell_type": "code",
   "execution_count": 26,
   "id": "5a95691c",
   "metadata": {},
   "outputs": [],
   "source": [
    "# loop through each health facility\n",
    "for i, row in health_facilities.iterrows():\n",
    "    # extract facility location\n",
    "    facility_location = row['geometry']\n",
    "    # create buffer around facility location\n",
    "    buffer_radius = 5000  # meters\n",
    "    buffer_distance = f'{buffer_radius} meters'\n",
    "    facility_buffer = facility_location.buffer(buffer_radius)\n"
   ]
  },
  {
   "cell_type": "code",
   "execution_count": 27,
   "id": "910739dc",
   "metadata": {},
   "outputs": [],
   "source": [
    " # extract patient locations within buffer\n",
    "patients_within_buffer = health_facilities.loc[health_facilities.within(facility_buffer)]\n",
    "num_patients_within_buffer = len(patients_within_buffer)\n",
    "\n",
    "# extract patient locations outside buffer\n",
    "patients_outside_buffer = health_facilities.loc[~health_facilities.within(facility_buffer)]\n",
    "num_patients_outside_buffer = len(patients_outside_buffer)\n",
    "    "
   ]
  },
  {
   "cell_type": "code",
   "execution_count": 25,
   "id": "1d32a7b0",
   "metadata": {},
   "outputs": [
    {
     "name": "stdout",
     "output_type": "stream",
     "text": [
      "Chalabesa Rural Health Centre\n",
      "Chaya Health Post\n",
      "Chibansa Urban Health Centre\n"
     ]
    }
   ],
   "source": [
    "# extract viral suppression status within buffer\n",
    "#suppressed_within_buffer = patients_within_buffer.loc[patients_within_buffer['viral_suppression'] == 'Suppressed']\n",
    "#num_suppressed_within_buffer = len(suppressed_within_buffer)\n",
    "#unsuppressed_within_buffer = patients_within_buffer.loc[patients_within_buffer['viral_suppression'] == 'Unsuppressed']\n",
    "#num_unsuppressed_within_buffer = len(unsuppressed_within_buffer)\n",
    "    \n",
    "# extract viral suppression status outside buffer\n",
    "#suppressed_outside_buffer = patients_outside_buffer.loc[patients_outside_buffer['viral_suppression'] == 'Suppressed']\n",
    "#num_suppressed_outside_buffer = len(suppressed_outside_buffer)\n",
    "#unsuppressed_outside_buffer = patients_outside_buffer.loc[patients_outside_buffer['viral_suppression'] == 'Unsuppressed']\n",
    "#num_unsuppressed_outside_buffer = len(unsuppressed_outside_buffer)\n",
    "\n",
    "for Name in health_facilities['Name']:\n",
    "    #print(f\"Results for {row['Name']}:\\n\"\n",
    "         # f\"Total patients within {buffer_distance}: {num_patients_within_buffer}\\n\"\n",
    "          #f\"Total patients outside {buffer_distance}: {num_patients_outside_buffer}\\n\")\n",
    "\n",
    "#for name in df['NAME']:\n",
    "    print(Name)"
   ]
  },
  {
   "cell_type": "code",
   "execution_count": null,
   "id": "dc504eda",
   "metadata": {},
   "outputs": [],
   "source": []
  }
 ],
 "metadata": {
  "kernelspec": {
   "display_name": "Python 3 (ipykernel)",
   "language": "python",
   "name": "python3"
  },
  "language_info": {
   "codemirror_mode": {
    "name": "ipython",
    "version": 3
   },
   "file_extension": ".py",
   "mimetype": "text/x-python",
   "name": "python",
   "nbconvert_exporter": "python",
   "pygments_lexer": "ipython3",
   "version": "3.11.0"
  }
 },
 "nbformat": 4,
 "nbformat_minor": 5
}
