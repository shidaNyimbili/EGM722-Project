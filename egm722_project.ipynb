{
 "cells": [
  {
   "cell_type": "code",
   "execution_count": 1,
   "id": "c6966d95",
   "metadata": {},
   "outputs": [],
   "source": [
    "#load packages\n",
    "import os\n",
    "import geopandas as gpd\n",
    "import matplotlib.pyplot as plt\n",
    "from cartopy.feature import ShapelyFeature\n",
    "import cartopy.crs as ccrs\n",
    "import matplotlib.patches as mpatches\n",
    "import matplotlib.lines as mlines\n"
   ]
  },
  {
   "cell_type": "code",
   "execution_count": 3,
   "id": "ed6659df",
   "metadata": {},
   "outputs": [],
   "source": [
    "# generate matplotlib handles to create a legend of the features we put in our map.\n",
    "def generate_handles(labels, colors, edge='k', alpha=1):\n",
    "    lc = len(colors)  # get the length of the color list\n",
    "    handles = []\n",
    "    for i in range(len(labels)):\n",
    "        handles.append(mpatches.Rectangle((0, 0), 1, 1, facecolor=colors[i % lc], edgecolor=edge, alpha=alpha))\n",
    "    return handles"
   ]
  },
  {
   "cell_type": "code",
   "execution_count": null,
   "id": "2891aead",
   "metadata": {},
   "outputs": [],
   "source": []
  }
 ],
 "metadata": {
  "kernelspec": {
   "display_name": "Python 3 (ipykernel)",
   "language": "python",
   "name": "python3"
  },
  "language_info": {
   "codemirror_mode": {
    "name": "ipython",
    "version": 3
   },
   "file_extension": ".py",
   "mimetype": "text/x-python",
   "name": "python",
   "nbconvert_exporter": "python",
   "pygments_lexer": "ipython3",
   "version": "3.11.0"
  }
 },
 "nbformat": 4,
 "nbformat_minor": 5
}
