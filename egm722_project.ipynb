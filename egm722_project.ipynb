{
 "cells": [
  {
   "cell_type": "code",
   "execution_count": 1,
   "id": "50b61977",
   "metadata": {},
   "outputs": [],
   "source": [
    "#load packages\n",
    "import os\n",
    "import geopandas as gpd\n",
    "import matplotlib.pyplot as plt\n",
    "from cartopy.feature import ShapelyFeature\n",
    "import cartopy.crs as ccrs\n",
    "import matplotlib.patches as mpatches\n",
    "import matplotlib.lines as mlines\n",
    "import rasterio\n",
    "from pyproj import CRS\n"
   ]
  },
  {
   "cell_type": "code",
   "execution_count": 2,
   "id": "7e883823",
   "metadata": {
    "scrolled": true
   },
   "outputs": [],
   "source": [
    "# load shapefiles\n",
    "health_facilities = gpd.read_file(os.path.abspath('datasets/health_facilities.shp'))\n",
    "patients = gpd.read_file(os.path.abspath('datasets/patient.shp'))\n",
    "roads = gpd.read_file(os.path.abspath('datasets/road.shp'))\n",
    "districts = gpd.read_file(os.path.abspath('datasets/district.shp'))"
   ]
  },
  {
   "cell_type": "code",
   "execution_count": 3,
   "id": "9f7fc6b7",
   "metadata": {},
   "outputs": [
    {
     "data": {
      "text/plain": [
       "<bound method NDFrame.head of    FID_                           Name   Latitude  Longitude  \\\n",
       "0   861  Chalabesa Rural Health Centre -11.481887  31.084718   \n",
       "1  1871              Chaya Health Post -11.836500  31.446669   \n",
       "2  1872   Chibansa Urban Health Centre -11.906580  31.436493   \n",
       "\n",
       "                     geometry  \n",
       "0  POINT (31.49772 -12.27351)  \n",
       "1  POINT (32.07443 -11.36278)  \n",
       "2  POINT (31.38183 -11.83039)  >"
      ]
     },
     "execution_count": 3,
     "metadata": {},
     "output_type": "execute_result"
    }
   ],
   "source": [
    "health_facilities.head"
   ]
  },
  {
   "cell_type": "code",
   "execution_count": 4,
   "id": "ba034450",
   "metadata": {},
   "outputs": [],
   "source": [
    "# Define projection\n",
    "#myCRS = ccrs.UTM(29)\n",
    "crs_utm = ccrs.UTM(34)\n",
    "#crs_utm = CRS.from_epsg(4326)\n",
    "patients = patients.to_crs(crs_utm)\n",
    "health_facilities = health_facilities.to_crs(crs_utm)\n",
    "roads = roads.to_crs(crs_utm)\n",
    "districts = districts.to_crs(crs_utm)"
   ]
  },
  {
   "cell_type": "code",
   "execution_count": 5,
   "id": "5a95691c",
   "metadata": {},
   "outputs": [],
   "source": [
    "# loop through each health facility\n",
    "for i, row in health_facilities.iterrows():\n",
    "    # extract facility location\n",
    "    facility_location = row['geometry']\n",
    "    # create buffer around facility location\n",
    "    buffer_radius = 5000  # meters\n",
    "    buffer_distance = f'{buffer_radius} meters'\n",
    "    facility_buffer = facility_location.buffer(buffer_radius)\n"
   ]
  },
  {
   "cell_type": "code",
   "execution_count": 6,
   "id": "7868f9f3",
   "metadata": {},
   "outputs": [
    {
     "name": "stdout",
     "output_type": "stream",
     "text": [
      "Inside Facility, Chalabesa Rural Health Centre has 4 patients within 5000 meters.\n",
      "Inside Facility, Chaya Health Post has 4 patients within 5000 meters.\n",
      "Inside Facility, Chibansa Urban Health Centre has 4 patients within 5000 meters.\n",
      "Outside Facility, Chalabesa Rural Health Centre has 28 patients outside 5000 meters.\n",
      "Outside Facility, Chaya Health Post has 28 patients outside 5000 meters.\n",
      "Outside Facility, Chibansa Urban Health Centre has 28 patients outside 5000 meters.\n"
     ]
    }
   ],
   "source": [
    "# Count patients within the buffer for each facility\n",
    "for i, facility in health_facilities.iterrows():\n",
    "    patients_within_buffer = patients[patients.geometry.within(facility_buffer)]\n",
    "    print(f\"Inside Facility, {facility['Name']} has {len(patients_within_buffer)} patients within {buffer_radius} meters.\")\n",
    "\n",
    "# Count patients outside the buffer for each facility\n",
    "for i, facility in health_facilities.iterrows():\n",
    "    patients_outside_buffer = patients[~patients.geometry.within(facility_buffer)]\n",
    "    print(f\"Outside Facility, {facility['Name']} has {len(patients_outside_buffer)} patients outside {buffer_radius} meters.\")\n"
   ]
  },
  {
   "cell_type": "code",
   "execution_count": 45,
   "id": "da2fb8c6",
   "metadata": {
    "scrolled": true
   },
   "outputs": [
    {
     "name": "stdout",
     "output_type": "stream",
     "text": [
      "Patients outside 5000 meters from facility Chalabesa Rural Health Centre travel an average of 59106.1131911757 meters to access HIV services.\n",
      "Patients outside 5000 meters from facility Chaya Health Post travel an average of 74450.07303719182 meters to access HIV services.\n",
      "Patients outside 5000 meters from facility Chibansa Urban Health Centre travel an average of 38546.079901369485 meters to access HIV services.\n"
     ]
    },
    {
     "name": "stderr",
     "output_type": "stream",
     "text": [
      "C:\\Users\\SNyimbili\\AppData\\Local\\anaconda3\\envs\\egm722py\\Lib\\site-packages\\geopandas\\geodataframe.py:1443: SettingWithCopyWarning: \n",
      "A value is trying to be set on a copy of a slice from a DataFrame.\n",
      "Try using .loc[row_indexer,col_indexer] = value instead\n",
      "\n",
      "See the caveats in the documentation: https://pandas.pydata.org/pandas-docs/stable/user_guide/indexing.html#returning-a-view-versus-a-copy\n",
      "  super().__setitem__(key, value)\n",
      "C:\\Users\\SNyimbili\\AppData\\Local\\anaconda3\\envs\\egm722py\\Lib\\site-packages\\geopandas\\geodataframe.py:1443: SettingWithCopyWarning: \n",
      "A value is trying to be set on a copy of a slice from a DataFrame.\n",
      "Try using .loc[row_indexer,col_indexer] = value instead\n",
      "\n",
      "See the caveats in the documentation: https://pandas.pydata.org/pandas-docs/stable/user_guide/indexing.html#returning-a-view-versus-a-copy\n",
      "  super().__setitem__(key, value)\n",
      "C:\\Users\\SNyimbili\\AppData\\Local\\anaconda3\\envs\\egm722py\\Lib\\site-packages\\geopandas\\geodataframe.py:1443: SettingWithCopyWarning: \n",
      "A value is trying to be set on a copy of a slice from a DataFrame.\n",
      "Try using .loc[row_indexer,col_indexer] = value instead\n",
      "\n",
      "See the caveats in the documentation: https://pandas.pydata.org/pandas-docs/stable/user_guide/indexing.html#returning-a-view-versus-a-copy\n",
      "  super().__setitem__(key, value)\n"
     ]
    }
   ],
   "source": [
    "# Calculate the distance patients outside the buffer travel to access HIV services\n",
    "for i, facility in health_facilities.iterrows():\n",
    "    patients_outside_buffer = patients[~patients.geometry.within(facility_buffer)]\n",
    "    patients_outside_buffer[\"distance_to_facility\"] = patients_outside_buffer.geometry.distance(facility.geometry)\n",
    "    print(f\"Patients outside {buffer_radius} meters from facility {facility['Name']} travel an average of {patients_outside_buffer['distance_to_facility'].mean()} meters to access HIV services.\")"
   ]
  },
  {
   "cell_type": "code",
   "execution_count": 47,
   "id": "6397bb6e",
   "metadata": {},
   "outputs": [
    {
     "ename": "AttributeError",
     "evalue": "'Polygon' object has no attribute 'geometry'",
     "output_type": "error",
     "traceback": [
      "\u001b[1;31m---------------------------------------------------------------------------\u001b[0m",
      "\u001b[1;31mAttributeError\u001b[0m                            Traceback (most recent call last)",
      "Cell \u001b[1;32mIn[47], line 8\u001b[0m\n\u001b[0;32m      5\u001b[0m fig, ax \u001b[38;5;241m=\u001b[39m plt\u001b[38;5;241m.\u001b[39msubplots(figsize\u001b[38;5;241m=\u001b[39m(\u001b[38;5;241m10\u001b[39m, \u001b[38;5;241m10\u001b[39m), subplot_kw\u001b[38;5;241m=\u001b[39m{\u001b[38;5;124m'\u001b[39m\u001b[38;5;124mprojection\u001b[39m\u001b[38;5;124m'\u001b[39m: crs})\n\u001b[0;32m      7\u001b[0m \u001b[38;5;66;03m# Add the data layers\u001b[39;00m\n\u001b[1;32m----> 8\u001b[0m ax\u001b[38;5;241m.\u001b[39madd_geometries(\u001b[43mfacility_buffer\u001b[49m\u001b[38;5;241;43m.\u001b[39;49m\u001b[43mgeometry\u001b[49m, crs\u001b[38;5;241m=\u001b[39mcrs, edgecolor\u001b[38;5;241m=\u001b[39m\u001b[38;5;124m'\u001b[39m\u001b[38;5;124mblack\u001b[39m\u001b[38;5;124m'\u001b[39m, facecolor\u001b[38;5;241m=\u001b[39m\u001b[38;5;124m'\u001b[39m\u001b[38;5;124mnone\u001b[39m\u001b[38;5;124m'\u001b[39m, linewidth\u001b[38;5;241m=\u001b[39m\u001b[38;5;241m2\u001b[39m)\n\u001b[0;32m      9\u001b[0m ax\u001b[38;5;241m.\u001b[39madd_geometries(patients\u001b[38;5;241m.\u001b[39mgeometry, crs\u001b[38;5;241m=\u001b[39mcrs, edgecolor\u001b[38;5;241m=\u001b[39m\u001b[38;5;124m'\u001b[39m\u001b[38;5;124mblack\u001b[39m\u001b[38;5;124m'\u001b[39m, facecolor\u001b[38;5;241m=\u001b[39m\u001b[38;5;124m'\u001b[39m\u001b[38;5;124mblue\u001b[39m\u001b[38;5;124m'\u001b[39m, alpha\u001b[38;5;241m=\u001b[39m\u001b[38;5;241m0.5\u001b[39m)\n\u001b[0;32m     11\u001b[0m \u001b[38;5;66;03m# Add the legend, scale bar, and north arrow\u001b[39;00m\n",
      "\u001b[1;31mAttributeError\u001b[0m: 'Polygon' object has no attribute 'geometry'"
     ]
    },
    {
     "data": {
      "image/png": "[encoded data removed]",
      "text/plain": [
       "<Figure size 1000x1000 with 1 Axes>"
      ]
     },
     "metadata": {},
     "output_type": "display_data"
    }
   ],
   "source": [
    "\n"
   ]
  },
  {
   "cell_type": "code",
   "execution_count": 27,
   "id": "910739dc",
   "metadata": {},
   "outputs": [],
   "source": [
    " # extract patient locations within buffer\n",
    "#patients_within_buffer = health_facilities.loc[health_facilities.within(facility_buffer)]\n",
    "#num_patients_within_buffer = len(patients_within_buffer)\n",
    "\n",
    "# extract patient locations outside buffer\n",
    "#patients_outside_buffer = health_facilities.loc[~health_facilities.within(facility_buffer)]\n",
    "#num_patients_outside_buffer = len(patients_outside_buffer)\n",
    "    "
   ]
  },
  {
   "cell_type": "code",
   "execution_count": 25,
   "id": "1d32a7b0",
   "metadata": {},
   "outputs": [
    {
     "name": "stdout",
     "output_type": "stream",
     "text": [
      "Chalabesa Rural Health Centre\n",
      "Chaya Health Post\n",
      "Chibansa Urban Health Centre\n"
     ]
    }
   ],
   "source": [
    "# extract viral suppression status within buffer\n",
    "#suppressed_within_buffer = patients_within_buffer.loc[patients_within_buffer['viral_suppression'] == 'Suppressed']\n",
    "#num_suppressed_within_buffer = len(suppressed_within_buffer)\n",
    "#unsuppressed_within_buffer = patients_within_buffer.loc[patients_within_buffer['viral_suppression'] == 'Unsuppressed']\n",
    "#num_unsuppressed_within_buffer = len(unsuppressed_within_buffer)\n",
    "    \n",
    "# extract viral suppression status outside buffer\n",
    "#suppressed_outside_buffer = patients_outside_buffer.loc[patients_outside_buffer['viral_suppression'] == 'Suppressed']\n",
    "#num_suppressed_outside_buffer = len(suppressed_outside_buffer)\n",
    "#unsuppressed_outside_buffer = patients_outside_buffer.loc[patients_outside_buffer['viral_suppression'] == 'Unsuppressed']\n",
    "#num_unsuppressed_outside_buffer = len(unsuppressed_outside_buffer)\n",
    "\n",
    "#for Name in health_facilities['Name']:\n",
    "    #print(f\"Results for {row['Name']}:\\n\"\n",
    "         # f\"Total patients within {buffer_distance}: {num_patients_within_buffer}\\n\"\n",
    "          #f\"Total patients outside {buffer_distance}: {num_patients_outside_buffer}\\n\")\n",
    "\n",
    "#for name in df['NAME']:\n",
    "    #print(Name)"
   ]
  },
  {
   "cell_type": "code",
   "execution_count": null,
   "id": "dc504eda",
   "metadata": {},
   "outputs": [],
   "source": []
  }
 ],
 "metadata": {
  "kernelspec": {
   "display_name": "Python 3 (ipykernel)",
   "language": "python",
   "name": "python3"
  },
  "language_info": {
   "codemirror_mode": {
    "name": "ipython",
    "version": 3
   },
   "file_extension": ".py",
   "mimetype": "text/x-python",
   "name": "python",
   "nbconvert_exporter": "python",
   "pygments_lexer": "ipython3",
   "version": "3.11.0"
  }
 },
 "nbformat": 4,
 "nbformat_minor": 5
}
