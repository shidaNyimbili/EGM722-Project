{
 "cells": [
  {
   "cell_type": "code",
   "execution_count": 31,
   "id": "50b61977",
   "metadata": {},
   "outputs": [],
   "source": [
    "#load packages\n",
    "import os\n",
    "import geopandas as gpd\n",
    "import matplotlib.pyplot as plt\n",
    "from cartopy.feature import ShapelyFeature\n",
    "import cartopy.crs as ccrs\n",
    "import matplotlib.patches as mpatches\n",
    "import matplotlib.lines as mlines\n",
    "import rasterio\n",
    "from pyproj import CRS\n"
   ]
  },
  {
   "cell_type": "code",
   "execution_count": 32,
   "id": "7e883823",
   "metadata": {
    "scrolled": true
   },
   "outputs": [],
   "source": [
    "# load shapefiles\n",
    "health_facilities = gpd.read_file(os.path.abspath('datasets/health_facilities.shp'))\n",
    "patients = gpd.read_file(os.path.abspath('datasets/patient.shp'))\n",
    "roads = gpd.read_file(os.path.abspath('datasets/road.shp'))\n",
    "districts = gpd.read_file(os.path.abspath('datasets/district.shp'))"
   ]
  },
  {
   "cell_type": "code",
   "execution_count": 33,
   "id": "9f7fc6b7",
   "metadata": {},
   "outputs": [
    {
     "data": {
      "text/plain": [
       "<bound method NDFrame.head of    FID_1  Shape_Leng  Shape_Area     FEATURE_TY  PROVINCE       Area_km  \\\n",
       "0     74    8.896313    1.422161  District Town  Muchinga  17235.395194   \n",
       "\n",
       "   PROV_CODE  DIST_CODE DISTRICT    Shape__Are    Shape__Len  \\\n",
       "0        106     106005    Mpika  1.801886e+10  1.001614e+06   \n",
       "\n",
       "                                            geometry  \n",
       "0  POLYGON ((31.99622 -11.18335, 31.99669 -11.183...  >"
      ]
     },
     "execution_count": 33,
     "metadata": {},
     "output_type": "execute_result"
    }
   ],
   "source": [
    "districts.head"
   ]
  },
  {
   "cell_type": "code",
   "execution_count": 38,
   "id": "810ea8c0",
   "metadata": {},
   "outputs": [],
   "source": [
    "# Define projection\n",
    "crs_utm = CRS.from_epsg(4326)\n",
    "patients = patients.to_crs(crs_utm)\n",
    "health_facilities = health_facilities.to_crs(crs_utm)\n",
    "roads = roads.to_crs(crs_utm)\n",
    "districts = districts.to_crs(crs_utm)"
   ]
  },
  {
   "cell_type": "code",
   "execution_count": null,
   "id": "75ce806c",
   "metadata": {},
   "outputs": [],
   "source": []
  }
 ],
 "metadata": {
  "kernelspec": {
   "display_name": "Python 3 (ipykernel)",
   "language": "python",
   "name": "python3"
  },
  "language_info": {
   "codemirror_mode": {
    "name": "ipython",
    "version": 3
   },
   "file_extension": ".py",
   "mimetype": "text/x-python",
   "name": "python",
   "nbconvert_exporter": "python",
   "pygments_lexer": "ipython3",
   "version": "3.11.0"
  }
 },
 "nbformat": 4,
 "nbformat_minor": 5
}
