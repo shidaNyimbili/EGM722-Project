{
 "cells": [
  {
   "cell_type": "code",
   "execution_count": 1,
   "id": "9bd7ff6c",
   "metadata": {},
   "outputs": [],
   "source": [
    "#load packages\n",
    "import os\n",
    "import geopandas as gpd\n",
    "import matplotlib.pyplot as plt\n",
    "from cartopy.feature import ShapelyFeature\n",
    "import cartopy.crs as ccrs\n",
    "import matplotlib.patches as mpatches\n",
    "import matplotlib.lines as mlines\n",
    "import rasterio\n",
    "from pyproj import CRS\n",
    "from shapely.geometry import Point\n",
    "import networkx as nx"
   ]
  },
  {
   "cell_type": "code",
   "execution_count": 2,
   "id": "796fade7",
   "metadata": {},
   "outputs": [],
   "source": [
    "# Load the patient location shapefile\n",
    "patient_location =  gpd.read_file(os.path.abspath('datasets/patient.shp'))\n",
    "\n",
    "# Load the health facility shapefile\n",
    "health_facilities = gpd.read_file(os.path.abspath('datasets/health_facilities.shp'))\n",
    "\n",
    "# Load the road network shapefile\n",
    "road_network = gpd.read_file(os.path.abspath('datasets/road.shp'))\n",
    "\n",
    "# Load the patient viral suppression shapefile\n",
    "patient_viral_suppression = gpd.read_file(os.path.abspath('datasets/patient.shp'))\n",
    "\n",
    "districts = gpd.read_file(os.path.abspath('datasets/district.shp'))\n"
   ]
  },
  {
   "cell_type": "code",
   "execution_count": 4,
   "id": "9ae25aae",
   "metadata": {},
   "outputs": [],
   "source": [
    "# Define projection\n",
    "#myCRS = ccrs.UTM(29)\n",
    "crs_utm = ccrs.UTM(34)\n",
    "#crs_utm = CRS.from_epsg(4326)\n",
    "patient_location = patient_location.to_crs(crs_utm)\n",
    "health_facilities = health_facilities.to_crs(crs_utm)\n",
    "road_network = road_network.to_crs(crs_utm)\n",
    "patient_viral_suppression = patient_viral_suppression.to_crs(crs_utm)\n",
    "districts = districts.to_crs(crs_utm)"
   ]
  },
  {
   "cell_type": "code",
   "execution_count": 5,
   "id": "e452192a",
   "metadata": {},
   "outputs": [],
   "source": [
    "# Buffer 5km around each health facility\n",
    "health_facilities_buffer = health_facilities.buffer(5000)"
   ]
  },
  {
   "cell_type": "code",
   "execution_count": 6,
   "id": "2d27141d",
   "metadata": {},
   "outputs": [
    {
     "name": "stdout",
     "output_type": "stream",
     "text": [
      "Number of patients within 5km buffer of each health facility: [2, 2, 4]\n"
     ]
    }
   ],
   "source": [
    "# Count the number of patients within the buffer for each health facility\n",
    "patient_within_buffer = []\n",
    "for i, row in health_facilities.iterrows():\n",
    "    patient_count = patient_location.within(health_facilities_buffer.loc[i]).sum()\n",
    "    patient_within_buffer.append(patient_count)\n",
    "print('Number of patients within 5km buffer of each health facility:', patient_within_buffer)"
   ]
  },
  {
   "cell_type": "code",
   "execution_count": 12,
   "id": "ced976ce",
   "metadata": {},
   "outputs": [],
   "source": []
  },
  {
   "cell_type": "code",
   "execution_count": 15,
   "id": "353ca3b5",
   "metadata": {},
   "outputs": [
    {
     "ename": "SyntaxError",
     "evalue": "incomplete input (3334207882.py, line 5)",
     "output_type": "error",
     "traceback": [
      "\u001b[1;36m  Cell \u001b[1;32mIn[15], line 5\u001b[1;36m\u001b[0m\n\u001b[1;33m    suppressed_within_buffer = len(viral_suppressions_within_buffer[viral_suppressions_within_buffer['viral_suppressions']\u001b[0m\n\u001b[1;37m                                                                                                                          ^\u001b[0m\n\u001b[1;31mSyntaxError\u001b[0m\u001b[1;31m:\u001b[0m incomplete input\n"
     ]
    }
   ],
   "source": []
  },
  {
   "cell_type": "code",
   "execution_count": null,
   "id": "60ae474c",
   "metadata": {},
   "outputs": [],
   "source": []
  }
 ],
 "metadata": {
  "kernelspec": {
   "display_name": "Python 3 (ipykernel)",
   "language": "python",
   "name": "python3"
  },
  "language_info": {
   "codemirror_mode": {
    "name": "ipython",
    "version": 3
   },
   "file_extension": ".py",
   "mimetype": "text/x-python",
   "name": "python",
   "nbconvert_exporter": "python",
   "pygments_lexer": "ipython3",
   "version": "3.11.0"
  }
 },
 "nbformat": 4,
 "nbformat_minor": 5
}
